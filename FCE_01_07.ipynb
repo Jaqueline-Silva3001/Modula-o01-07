{
  "nbformat": 4,
  "nbformat_minor": 0,
  "metadata": {
    "colab": {
      "provenance": [],
      "authorship_tag": "ABX9TyM53EsFuEcpP7tpozzv9B6O",
      "include_colab_link": true
    },
    "kernelspec": {
      "name": "python3",
      "display_name": "Python 3"
    },
    "language_info": {
      "name": "python"
    }
  },
  "cells": [
    {
      "cell_type": "markdown",
      "metadata": {
        "id": "view-in-github",
        "colab_type": "text"
      },
      "source": [
        "<a href=\"https://colab.research.google.com/github/Jaqueline-Silva3001/Modula-o01-07/blob/main/FCE_01_07.ipynb\" target=\"_parent\"><img src=\"https://colab.research.google.com/assets/colab-badge.svg\" alt=\"Open In Colab\"/></a>"
      ]
    },
    {
      "cell_type": "code",
      "execution_count": null,
      "metadata": {
        "id": "V0lI_nNP9J-e"
      },
      "outputs": [],
      "source": [
        "# Clonar um repositório com o módulo desejado:\n",
        "!wget -q https://raw.githubusercontent.com/juliosdutra/FundamentosComputacionais/refs/heads/main/Misturador_sal.ipynb\n",
        "\n",
        "# Rodar o módulo para carregar as funções:\n",
        "%run Misturador_sal.ipynb\n"
      ]
    },
    {
      "cell_type": "code",
      "source": [
        "# Exibir as funções carregadas:\n",
        "import inspect\n",
        "\n",
        "\n",
        "for name, obj in globals().items():\n",
        "    if inspect.isfunction(obj):\n",
        "        print(name)"
      ],
      "metadata": {
        "colab": {
          "base_uri": "https://localhost:8080/"
        },
        "id": "KBZxJtZs_ffj",
        "outputId": "875a2e88-3997-445c-ba2d-65e8c3279085"
      },
      "execution_count": null,
      "outputs": [
        {
          "output_type": "stream",
          "name": "stdout",
          "text": [
            "misturador\n",
            "resolve_misturador\n"
          ]
        }
      ]
    },
    {
      "cell_type": "code",
      "source": [
        "# Help das funções desejadas:\n",
        "\n",
        "help(misturador)"
      ],
      "metadata": {
        "colab": {
          "base_uri": "https://localhost:8080/"
        },
        "id": "3g6TehEaAUDA",
        "outputId": "fb689a03-9fe4-41b3-f447-91de4a3a70d8"
      },
      "execution_count": null,
      "outputs": [
        {
          "output_type": "stream",
          "name": "stdout",
          "text": [
            "Help on function misturador in module __main__:\n",
            "\n",
            "misturador(FA, xA, FB, xB)\n",
            "    Calcula a vazão total e a concentração de saída de um misturador em regime estacionário.\n",
            "    \n",
            "    Aceita entradas escalares ou arrays NumPy para simulações múltiplas. Realiza validações\n",
            "    de domínio para evitar concentrações fora do intervalo [0, 1], vazões negativas ou\n",
            "    divisão por zero.\n",
            "    \n",
            "    Parâmetros:\n",
            "    ----------\n",
            "    FA : float ou array-like\n",
            "        Vazão da corrente A (kg/h). Deve ser >= 0.\n",
            "    xA : float ou array-like\n",
            "        Concentração da espécie na corrente A (fração entre 0 e 1).\n",
            "    FB : float ou array-like\n",
            "        Vazão da corrente B (kg/h). Deve ser >= 0.\n",
            "    xB : float ou array-like\n",
            "        Concentração da espécie na corrente B (fração entre 0 e 1).\n",
            "    \n",
            "    Retorno:\n",
            "    -------\n",
            "    dict ou None\n",
            "        Um dicionário com as chaves:\n",
            "            - 'F_total': array ou float com as vazões totais (kg/h)\n",
            "            - 'x_saida': array ou float com as concentrações de saída (fração)\n",
            "        Retorna None se houver erro de validação.\n",
            "    \n",
            "    Exceções:\n",
            "    --------\n",
            "    ValueError\n",
            "        É levantado internamente para entradas inválidas (vazão negativa, concentração fora dos limites, etc.),\n",
            "        mas tratado dentro da função com impressão da mensagem de erro.\n",
            "    \n",
            "    Exemplos:\n",
            "    --------\n",
            "    >>> misturador(100, 0.10, 50, 0.30)\n",
            "    {'F_total': 150.0, 'x_saida': 0.16666666666666666}\n",
            "    \n",
            "    >>> misturador([100, 80], [0.1, 0.2], [50, 60], [0.3, 0.1])\n",
            "    {'F_total': array([150., 140.]), 'x_saida': array([0.16666667, 0.15714286])}\n",
            "\n"
          ]
        }
      ]
    },
    {
      "cell_type": "code",
      "source": [
        "misturador(100, 1.3, 50, 0.3)"
      ],
      "metadata": {
        "colab": {
          "base_uri": "https://localhost:8080/"
        },
        "id": "IrHGLROAC5Yk",
        "outputId": "e5ea22f7-3183-4c5d-9316-0cc104dcd9b3"
      },
      "execution_count": null,
      "outputs": [
        {
          "output_type": "stream",
          "name": "stdout",
          "text": [
            "Erro na entrada: Concentrações devem estar entre 0 e 1.\n"
          ]
        }
      ]
    }
  ]
}